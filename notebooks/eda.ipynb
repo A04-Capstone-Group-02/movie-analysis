{
 "cells": [
  {
   "cell_type": "markdown",
   "metadata": {},
   "source": [
    "# EDA\n",
    "See `data/out/report.html` for a basic profiling report of the data."
   ]
  },
  {
   "cell_type": "code",
   "execution_count": 1,
   "metadata": {
    "ExecuteTime": {
     "end_time": "2021-01-16T01:04:10.695939Z",
     "start_time": "2021-01-16T01:04:09.780169Z"
    }
   },
   "outputs": [],
   "source": [
    "import matplotlib.pyplot as plt\n",
    "import numpy as np\n",
    "import pandas as pd\n",
    "%config InlineBackend.figure_format = 'retina'"
   ]
  },
  {
   "cell_type": "code",
   "execution_count": 2,
   "metadata": {
    "ExecuteTime": {
     "end_time": "2021-01-16T01:04:11.126337Z",
     "start_time": "2021-01-16T01:04:10.698262Z"
    }
   },
   "outputs": [
    {
     "data": {
      "text/html": [
       "<div>\n",
       "<style scoped>\n",
       "    .dataframe tbody tr th:only-of-type {\n",
       "        vertical-align: middle;\n",
       "    }\n",
       "\n",
       "    .dataframe tbody tr th {\n",
       "        vertical-align: top;\n",
       "    }\n",
       "\n",
       "    .dataframe thead th {\n",
       "        text-align: right;\n",
       "    }\n",
       "</style>\n",
       "<table border=\"1\" class=\"dataframe\">\n",
       "  <thead>\n",
       "    <tr style=\"text-align: right;\">\n",
       "      <th></th>\n",
       "      <th>name</th>\n",
       "      <th>date</th>\n",
       "      <th>revenue</th>\n",
       "      <th>runtime</th>\n",
       "      <th>languages</th>\n",
       "      <th>countries</th>\n",
       "      <th>genres</th>\n",
       "      <th>summary</th>\n",
       "      <th>phrases</th>\n",
       "    </tr>\n",
       "  </thead>\n",
       "  <tbody>\n",
       "    <tr>\n",
       "      <th>0</th>\n",
       "      <td>Blacksmith Scene</td>\n",
       "      <td>1893-01-01</td>\n",
       "      <td>NaN</td>\n",
       "      <td>0.566667</td>\n",
       "      <td>[Silent film]</td>\n",
       "      <td>[United States of America]</td>\n",
       "      <td>[Short Film, Silent film, Indie, Black-and-white]</td>\n",
       "      <td>The scene is all filmed from a stationary came...</td>\n",
       "      <td>[blacksmith, metal, beer, camera, anvil]</td>\n",
       "    </tr>\n",
       "    <tr>\n",
       "      <th>1</th>\n",
       "      <td>Miss Jerry</td>\n",
       "      <td>1894-10-09</td>\n",
       "      <td>NaN</td>\n",
       "      <td>NaN</td>\n",
       "      <td>[Silent film]</td>\n",
       "      <td>[United States of America]</td>\n",
       "      <td>[Short Film, Silent film, Indie, Black-and-white]</td>\n",
       "      <td>After finding out that her father is suffering...</td>\n",
       "      <td>[London, Hamilton, heart, journalism, love, ed...</td>\n",
       "    </tr>\n",
       "    <tr>\n",
       "      <th>2</th>\n",
       "      <td>Corbett and Courtney Before the Kinetograph</td>\n",
       "      <td>1894-11-17</td>\n",
       "      <td>NaN</td>\n",
       "      <td>NaN</td>\n",
       "      <td>[Silent film]</td>\n",
       "      <td>[United States of America]</td>\n",
       "      <td>[Short Film, Silent film, Indie, Black-and-white]</td>\n",
       "      <td>James J. Corbett and Peter Courtney both take ...</td>\n",
       "      <td>[hero, boxing]</td>\n",
       "    </tr>\n",
       "    <tr>\n",
       "      <th>3</th>\n",
       "      <td>La Mer</td>\n",
       "      <td>1895-01-01</td>\n",
       "      <td>NaN</td>\n",
       "      <td>0.633333</td>\n",
       "      <td>[Silent film]</td>\n",
       "      <td>[France]</td>\n",
       "      <td>[Short Film, Silent film, Indie, Black-and-whi...</td>\n",
       "      <td>This 38 second film has a very simple plot in ...</td>\n",
       "      <td>[jetty, film, water]</td>\n",
       "    </tr>\n",
       "    <tr>\n",
       "      <th>4</th>\n",
       "      <td>Autour d'une cabine</td>\n",
       "      <td>1895-01-01</td>\n",
       "      <td>NaN</td>\n",
       "      <td>15.000000</td>\n",
       "      <td>[Silent film]</td>\n",
       "      <td>[France]</td>\n",
       "      <td>[Short Film, Silent film, Animation, Comedy, I...</td>\n",
       "      <td>The film consists of a series of animations on...</td>\n",
       "      <td>[play, swimming, film, beach, water, dog, boat...</td>\n",
       "    </tr>\n",
       "  </tbody>\n",
       "</table>\n",
       "</div>"
      ],
      "text/plain": [
       "                                          name       date  revenue    runtime  \\\n",
       "0                             Blacksmith Scene 1893-01-01      NaN   0.566667   \n",
       "1                                   Miss Jerry 1894-10-09      NaN        NaN   \n",
       "2  Corbett and Courtney Before the Kinetograph 1894-11-17      NaN        NaN   \n",
       "3                                       La Mer 1895-01-01      NaN   0.633333   \n",
       "4                          Autour d'une cabine 1895-01-01      NaN  15.000000   \n",
       "\n",
       "       languages                   countries  \\\n",
       "0  [Silent film]  [United States of America]   \n",
       "1  [Silent film]  [United States of America]   \n",
       "2  [Silent film]  [United States of America]   \n",
       "3  [Silent film]                    [France]   \n",
       "4  [Silent film]                    [France]   \n",
       "\n",
       "                                              genres  \\\n",
       "0  [Short Film, Silent film, Indie, Black-and-white]   \n",
       "1  [Short Film, Silent film, Indie, Black-and-white]   \n",
       "2  [Short Film, Silent film, Indie, Black-and-white]   \n",
       "3  [Short Film, Silent film, Indie, Black-and-whi...   \n",
       "4  [Short Film, Silent film, Animation, Comedy, I...   \n",
       "\n",
       "                                             summary  \\\n",
       "0  The scene is all filmed from a stationary came...   \n",
       "1  After finding out that her father is suffering...   \n",
       "2  James J. Corbett and Peter Courtney both take ...   \n",
       "3  This 38 second film has a very simple plot in ...   \n",
       "4  The film consists of a series of animations on...   \n",
       "\n",
       "                                             phrases  \n",
       "0           [blacksmith, metal, beer, camera, anvil]  \n",
       "1  [London, Hamilton, heart, journalism, love, ed...  \n",
       "2                                     [hero, boxing]  \n",
       "3                               [jetty, film, water]  \n",
       "4  [play, swimming, film, beach, water, dog, boat...  "
      ]
     },
     "execution_count": 2,
     "metadata": {},
     "output_type": "execute_result"
    }
   ],
   "source": [
    "df = pd.read_pickle('../data/out/data.pkl')\n",
    "df.head()"
   ]
  }
 ],
 "metadata": {
  "kernelspec": {
   "display_name": "Python 3",
   "language": "python",
   "name": "python3"
  },
  "language_info": {
   "codemirror_mode": {
    "name": "ipython",
    "version": 3
   },
   "file_extension": ".py",
   "mimetype": "text/x-python",
   "name": "python",
   "nbconvert_exporter": "python",
   "pygments_lexer": "ipython3",
   "version": "3.8.5"
  }
 },
 "nbformat": 4,
 "nbformat_minor": 4
}
