{
 "cells": [
  {
   "cell_type": "code",
   "execution_count": 1,
   "metadata": {
    "ExecuteTime": {
     "end_time": "2021-02-02T19:16:34.784410Z",
     "start_time": "2021-02-02T19:16:34.074295Z"
    }
   },
   "outputs": [],
   "source": [
    "import pandas as pd"
   ]
  },
  {
   "cell_type": "code",
   "execution_count": 2,
   "metadata": {
    "ExecuteTime": {
     "end_time": "2021-02-02T19:16:37.612402Z",
     "start_time": "2021-02-02T19:16:34.786600Z"
    }
   },
   "outputs": [],
   "source": [
    "df = pd.read_pickle('../data/out/data.pkl')\n",
    "df['year'] = df.date.dt.year.astype('Int64')"
   ]
  },
  {
   "cell_type": "code",
   "execution_count": 3,
   "metadata": {
    "ExecuteTime": {
     "end_time": "2021-02-02T19:16:37.636992Z",
     "start_time": "2021-02-02T19:16:37.615204Z"
    }
   },
   "outputs": [
    {
     "data": {
      "text/plain": [
       "1893     1\n",
       "1894     2\n",
       "1895     9\n",
       "1896     6\n",
       "1897     4\n",
       "1898     7\n",
       "1899     1\n",
       "1900     6\n",
       "1901     2\n",
       "1902     3\n",
       "1903     4\n",
       "1904     1\n",
       "1905     3\n",
       "1906     1\n",
       "1907     8\n",
       "1908     6\n",
       "1909     5\n",
       "1910    12\n",
       "1911    42\n",
       "1912    32\n",
       "1913    37\n",
       "1914    50\n",
       "1915    50\n",
       "1916    60\n",
       "1917    44\n",
       "1918    53\n",
       "1919    48\n",
       "1920    53\n",
       "1921    60\n",
       "1922    55\n",
       "1923    58\n",
       "1924    84\n",
       "1925    90\n",
       "1926    77\n",
       "1927    95\n",
       "2013    70\n",
       "2014     4\n",
       "Name: year, dtype: Int64"
      ]
     },
     "execution_count": 3,
     "metadata": {},
     "output_type": "execute_result"
    }
   ],
   "source": [
    "# Years with less than 100 movies\n",
    "year_movie_count = df.year.value_counts()\n",
    "year_movie_count[year_movie_count < 100].sort_index()"
   ]
  },
  {
   "cell_type": "markdown",
   "metadata": {},
   "source": [
    "The tf-idf with sublinear tf scaling for a term $t$ of a document $d$ is given by\n",
    "\n",
    "$$\\text{tf-idf}(t, d) = (1 + \\log\\text{tf}(t, d)) \\cdot \\left(\\log\\frac{1 + n}{\\text{1 + df}(t)} + 1\\right)$$\n",
    "\n",
    "where $n$ is the total number of documents and $\\text{df}(t)$ is the document frequency of $t$ ([source](https://scikit-learn.org/stable/modules/generated/sklearn.feature_extraction.text.TfidfTransformer.html)).\n",
    "\n",
    "We use sublinear tf scaling to reduce the significance of very common terms which are likely uninformative.\n",
    "\n",
    "Here, a term is a phrase and a document is a year. Given a tf-idf vector for each year, we then normalize each tf-idf vector to have a Euclidean norm of 1."
   ]
  }
 ],
 "metadata": {
  "kernelspec": {
   "display_name": "Python 3",
   "language": "python",
   "name": "python3"
  },
  "language_info": {
   "codemirror_mode": {
    "name": "ipython",
    "version": 3
   },
   "file_extension": ".py",
   "mimetype": "text/x-python",
   "name": "python",
   "nbconvert_exporter": "python",
   "pygments_lexer": "ipython3",
   "version": "3.8.5"
  }
 },
 "nbformat": 4,
 "nbformat_minor": 4
}
